{
 "cells": [
  {
   "cell_type": "code",
   "execution_count": 1,
   "id": "53848c59",
   "metadata": {},
   "outputs": [],
   "source": [
    "#pip install streamlit"
   ]
  },
  {
   "cell_type": "code",
   "execution_count": 2,
   "id": "34d9f075",
   "metadata": {},
   "outputs": [],
   "source": [
    "import pandas as pd"
   ]
  },
  {
   "cell_type": "code",
   "execution_count": 3,
   "id": "e7dec62f",
   "metadata": {},
   "outputs": [],
   "source": [
    "# Import your dataset after preparation so only features and target\n",
    "monroe= pd.read_csv('Monroe_County_Single_Family_Residential__Building_Assets_and_Energy_Consumption__2017-2019_prepped.csv');"
   ]
  },
  {
   "cell_type": "code",
   "execution_count": 4,
   "id": "2fead2c6",
   "metadata": {},
   "outputs": [],
   "source": [
    "monroe.head();"
   ]
  },
  {
   "cell_type": "code",
   "execution_count": 5,
   "id": "5fed984c",
   "metadata": {},
   "outputs": [],
   "source": [
    "# create a variable with the column name of your target value so y\n",
    "y='nyserda_energy_efficiency_program_participation'"
   ]
  },
  {
   "cell_type": "code",
   "execution_count": 6,
   "id": "c8429893",
   "metadata": {},
   "outputs": [
    {
     "name": "stdout",
     "output_type": "stream",
     "text": [
      "year_built_range ,\n",
      "assessed_value_range ,\n",
      "number_of_stories ,\n",
      "square_footage_range ,\n",
      "number_of_bedrooms ,\n",
      "total_number_of_bathrooms ,\n",
      "number_of_kitchens ,\n",
      "number_of_fireplaces ,\n",
      "ethnic_group ,\n",
      "number_of_occupants ,\n",
      "median_income_range ,\n",
      "average_annual_electric_use_mmbtu ,\n",
      "average_annual_gas_use_mmbtu ,\n"
     ]
    }
   ],
   "source": [
    "# Return your the columnnames used as input for your algorithm:\n",
    "monroe_unlabeled=monroe.columns[0:15];\n",
    "monroe_un=monroe[monroe_unlabeled];\n",
    "monroe_un=monroe_un.loc[:, monroe_un.columns != y]\n",
    "monroe_un=monroe_un.loc[:, monroe_un.columns != 'average_annual_total_energy_use_mmbtu']\n",
    "for i in monroe_un:\n",
    "    print(i,',')"
   ]
  },
  {
   "cell_type": "code",
   "execution_count": 7,
   "id": "f207059e",
   "metadata": {},
   "outputs": [],
   "source": [
    "# use this function to build a dictionary for the features with their column names and their categories\n",
    "def dic_builder(data):\n",
    "    dic={}\n",
    "    CAT=list(data.select_dtypes(include='object').columns)\n",
    "    for i in list(data.columns):\n",
    "        if i in CAT:\n",
    "            dic[str(i)] = i\n",
    "            dic[str(i)] = list(data[str(i)].unique())\n",
    "        else:\n",
    "            dic[str(i)] = [min(data[i]), max(monroe[i])]\n",
    "    return dic"
   ]
  },
  {
   "cell_type": "code",
   "execution_count": 8,
   "id": "ce1a20bb",
   "metadata": {
    "scrolled": true
   },
   "outputs": [],
   "source": [
    "dic=dic_builder(monroe_un)"
   ]
  },
  {
   "cell_type": "code",
   "execution_count": 9,
   "id": "b213f41b",
   "metadata": {},
   "outputs": [
    {
     "data": {
      "text/plain": [
       "{'year_built_range': ['<1945', '1945-1975', '1976-2000', '2000-2020'],\n",
       " 'assessed_value_range': ['100 - 150',\n",
       "  '< 100',\n",
       "  '150 - 200',\n",
       "  '200 - 300',\n",
       "  '>300'],\n",
       " 'number_of_stories': [1, 3],\n",
       " 'square_footage_range': ['<= 1,500', '1500 - 2500', '>=2500'],\n",
       " 'number_of_bedrooms': ['1 or 2', '3', '4 or more'],\n",
       " 'total_number_of_bathrooms': ['1 or 1.5', '2 or 2.5', '3 or more'],\n",
       " 'number_of_kitchens': ['1 or less', '2 or more'],\n",
       " 'number_of_fireplaces': ['0', '1 or more'],\n",
       " 'ethnic_group': ['other', 'Western European'],\n",
       " 'number_of_occupants': ['3 or 4 occupants', 'Less than 3', 'More than 4'],\n",
       " 'median_income_range': ['50 - 100', '< 50', '100 - 150', '> 150'],\n",
       " 'average_annual_electric_use_mmbtu': [0.0, 594.99],\n",
       " 'average_annual_gas_use_mmbtu': [0.0, 1287.75]}"
      ]
     },
     "execution_count": 9,
     "metadata": {},
     "output_type": "execute_result"
    }
   ],
   "source": [
    "dic"
   ]
  },
  {
   "cell_type": "code",
   "execution_count": 10,
   "id": "14da6719",
   "metadata": {},
   "outputs": [],
   "source": [
    "# use this function to write the code that you can implement in your streamlit file. \n",
    "# you can change the code for example into st.select_slider\n",
    "# BE AWARE that the order of the results aren't always right\n",
    "def code_gen(dic):\n",
    "    for key in dic:\n",
    "        if (type(dic.get(key)[0])==str)==True:\n",
    "            print(key+'_var', '=', \"st.sidebar.select_slider(\", \"'\",key,\"'\", ',', dic.get(key),')')\n",
    "        else:\n",
    "            print(key+'_var', '=',\"st.sidebar.number_input(\", \"'\",key,\"'\", ',',dic.get(key)[0],',', dic.get(key)[1], ')')"
   ]
  },
  {
   "cell_type": "code",
   "execution_count": 11,
   "id": "55902e2e",
   "metadata": {},
   "outputs": [
    {
     "name": "stdout",
     "output_type": "stream",
     "text": [
      "year_built_range_var = st.sidebar.select_slider( ' year_built_range ' , ['<1945', '1945-1975', '1976-2000', '2000-2020'] )\n",
      "assessed_value_range_var = st.sidebar.select_slider( ' assessed_value_range ' , ['100 - 150', '< 100', '150 - 200', '200 - 300', '>300'] )\n",
      "number_of_stories_var = st.sidebar.number_input( ' number_of_stories ' , 1 , 3 )\n",
      "square_footage_range_var = st.sidebar.select_slider( ' square_footage_range ' , ['<= 1,500', '1500 - 2500', '>=2500'] )\n",
      "number_of_bedrooms_var = st.sidebar.select_slider( ' number_of_bedrooms ' , ['1 or 2', '3', '4 or more'] )\n",
      "total_number_of_bathrooms_var = st.sidebar.select_slider( ' total_number_of_bathrooms ' , ['1 or 1.5', '2 or 2.5', '3 or more'] )\n",
      "number_of_kitchens_var = st.sidebar.select_slider( ' number_of_kitchens ' , ['1 or less', '2 or more'] )\n",
      "number_of_fireplaces_var = st.sidebar.select_slider( ' number_of_fireplaces ' , ['0', '1 or more'] )\n",
      "ethnic_group_var = st.sidebar.select_slider( ' ethnic_group ' , ['other', 'Western European'] )\n",
      "number_of_occupants_var = st.sidebar.select_slider( ' number_of_occupants ' , ['3 or 4 occupants', 'Less than 3', 'More than 4'] )\n",
      "median_income_range_var = st.sidebar.select_slider( ' median_income_range ' , ['50 - 100', '< 50', '100 - 150', '> 150'] )\n",
      "average_annual_electric_use_mmbtu_var = st.sidebar.number_input( ' average_annual_electric_use_mmbtu ' , 0.0 , 594.99 )\n",
      "average_annual_gas_use_mmbtu_var = st.sidebar.number_input( ' average_annual_gas_use_mmbtu ' , 0.0 , 1287.75 )\n"
     ]
    }
   ],
   "source": [
    "code_gen(dic_builder(monroe_un))"
   ]
  },
  {
   "cell_type": "code",
   "execution_count": null,
   "id": "99fa97c7",
   "metadata": {},
   "outputs": [],
   "source": []
  },
  {
   "cell_type": "code",
   "execution_count": null,
   "id": "087e6fdd",
   "metadata": {},
   "outputs": [],
   "source": []
  }
 ],
 "metadata": {
  "kernelspec": {
   "display_name": "Python 3 (ipykernel)",
   "language": "python",
   "name": "python3"
  },
  "language_info": {
   "codemirror_mode": {
    "name": "ipython",
    "version": 3
   },
   "file_extension": ".py",
   "mimetype": "text/x-python",
   "name": "python",
   "nbconvert_exporter": "python",
   "pygments_lexer": "ipython3",
   "version": "3.9.12"
  }
 },
 "nbformat": 4,
 "nbformat_minor": 5
}
