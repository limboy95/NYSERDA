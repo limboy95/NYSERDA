{
 "cells": [
  {
   "cell_type": "code",
   "execution_count": null,
   "id": "2602de4a",
   "metadata": {},
   "outputs": [],
   "source": [
    "#pip install streamlit\n",
    "from joblib import dump, load\n",
    "import streamlit as st"
   ]
  },
  {
   "cell_type": "code",
   "execution_count": null,
   "id": "4277794e",
   "metadata": {},
   "outputs": [],
   "source": [
    "model = load('DecisionTree_avg_prec_87.joblib');"
   ]
  },
  {
   "cell_type": "code",
   "execution_count": null,
   "id": "a5ad5541",
   "metadata": {},
   "outputs": [],
   "source": [
    "st.title('Can we predict if a househould is willing to contribute to nyserda?')\n",
    "st.select_slider( ' year_built_range ' , ['<1945', '1945-1975', '1976-2000', '2000-2020'] )\n",
    "st.select_slider( ' assessed_value_range ' , ['100 - 150', '< 100', '150 - 200', '200 - 300', '>300'] )\n",
    "st.slider( ' number_of_stories ' , 1 , 3 )\n",
    "st.select_slider( ' square_footage_range ' , ['<= 1,500', '1500 - 2500', '>=2500'] )\n",
    "st.select_slider( ' number_of_bedrooms ' , ['1 or 2', '3', '4 or more'] )\n",
    "st.select_slider( ' total_number_of_bathrooms ' , ['1 or 1.5', '2 or 2.5', '3 or more'] )\n",
    "st.select_slider( ' number_of_kitchens ' , ['1 or less', '2 or more'] )\n",
    "st.select_slider( ' number_of_fireplaces ' , ['0', '1 or more'] )\n",
    "st.select_slider( ' ethnic_group ' , ['other', 'Western European'] )\n",
    "st.select_slider( ' number_of_occupants ' , ['3 or 4 occupants', 'Less than 3', 'More than 4'] )\n",
    "st.select_slider( ' median_income_range ' , ['50 - 100', '< 50', '100 - 150', '> 150'] )\n",
    "st.select_slider( ' nyserda_energy_efficiency_program_participation ' , ['No', 'Yes'] )\n",
    "st.slider( ' average_annual_electric_use_mmbtu ' , 0.0 , 594.99 )\n",
    "st.slider( ' average_annual_gas_use_mmbtu ' , 0.0 , 1287.75 )"
   ]
  }
 ],
 "metadata": {
  "kernelspec": {
   "display_name": "Python 3 (ipykernel)",
   "language": "python",
   "name": "python3"
  },
  "language_info": {
   "codemirror_mode": {
    "name": "ipython",
    "version": 3
   },
   "file_extension": ".py",
   "mimetype": "text/x-python",
   "name": "python",
   "nbconvert_exporter": "python",
   "pygments_lexer": "ipython3",
   "version": "3.9.15"
  }
 },
 "nbformat": 4,
 "nbformat_minor": 5
}
